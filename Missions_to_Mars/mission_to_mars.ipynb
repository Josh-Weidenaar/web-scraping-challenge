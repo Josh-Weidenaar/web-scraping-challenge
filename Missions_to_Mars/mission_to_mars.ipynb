{
 "cells": [
  {
   "cell_type": "code",
   "execution_count": 29,
   "metadata": {},
   "outputs": [],
   "source": [
    "import pandas as pd\n",
    "from bs4 import BeautifulSoup\n",
    "import requests\n",
    "from webdriver_manager.chrome import ChromeDriverManager\n",
    "from splinter import Browser\n",
    "\n",
    "def scrape():\n",
    "    dictie = {}\n",
    "    p_class_target = \"article_teaser_body\"\n",
    "    headline_target = \"content_title\"\n",
    "\n",
    "    executable_path = {'executable_path': ChromeDriverManager().install()}\n",
    "    browser = Browser('chrome', **executable_path, headless=False)\n",
    "\n",
    "    url = 'https://redplanetscience.com/'\n",
    "    browser.is_element_visible_by_css('div[class=\"list_text\"]',wait_time=10)\n",
    "    browser.visit(url)\n",
    "\n",
    "\n",
    "    page = browser.html\n",
    "    soup = BeautifulSoup(page, 'html.parser')\n",
    "\n",
    "    soup\n",
    "\n",
    "    news_title = soup.find(\"div\",{\"class\": headline_target})\n",
    "    news_p = soup.find(\"div\",{\"class\": p_class_target})\n",
    "\n",
    "    news_p = news_p.text\n",
    "    news_title = news_title.text\n",
    "    \n",
    "    \n",
    "    dictie['news_title'] = news_title\n",
    "    dictie['news_p'] = news_p\n",
    "    \n",
    "    url = \"https://spaceimages-mars.com\"\n",
    "    browser.visit(url)\n",
    "\n",
    "    browser.click_link_by_partial_href('image/featured/')\n",
    "\n",
    "    img = browser.html\n",
    "    soup = BeautifulSoup(img, 'html.parser')\n",
    "\n",
    "    href = soup.find(\"img\",{\"class\": \"fancybox-image\"})['src']\n",
    "\n",
    "    url = browser.url\n",
    "\n",
    "    url\n",
    "\n",
    "    imgurl = url + href\n",
    "\n",
    "    dictie['featured_image_url'] = imgurl\n",
    "\n",
    "    df = pd.read_html(\"https://galaxyfacts-mars.com\")\n",
    "    html_table_string = pd.DataFrame(df[1]).to_html()\n",
    "    pd.DataFrame(df[1]).to_html('templates/table.html')\n",
    "    \n",
    "    dictie['fact_table'] = html_table_string\n",
    "    \n",
    "    \n",
    "    hemisphere_image_urls = []\n",
    "    url = \"https://marshemispheres.com/\"\n",
    "    html = requests.get(url)\n",
    "    soup = BeautifulSoup(html.content,'html.parser')\n",
    "    # browser.visit(url)\n",
    "\n",
    "    # browser.click_link_by_partial_text('Hemisphere')\n",
    "    # for i in link:\n",
    "    #     dct = {}\n",
    "    #     keys = ['title','img_url']\n",
    "\n",
    "    soup_list = soup.find_all('div',attrs={'class':'item'})\n",
    "    url_list = []\n",
    "    for i in soup_list:\n",
    "        href = i.find(\"a\",attrs={'class':'itemLink'})['href']\n",
    "        url_list.append(url + href)\n",
    "\n",
    "\n",
    "    html = requests.get(url)\n",
    "    soup = BeautifulSoup(html.content,'html.parser')\n",
    "\n",
    "\n",
    "    url_list\n",
    "\n",
    "    for i in url_list:\n",
    "        dct = {}\n",
    "        html = requests.get(i)\n",
    "        soup = BeautifulSoup(html.content,'html.parser')\n",
    "        title_target = 'h2'\n",
    "        img_url_target = 'a'\n",
    "        img_url_target_text = 'Sample'\n",
    "        base = \"https://marshemispheres.com/\"\n",
    "        keys = ['title','img_url']\n",
    "        dct[keys[0]] = soup.find(title_target).text\n",
    "        dct[keys[1]] = base + soup.find(img_url_target,text=img_url_target_text)['href']\n",
    "        hemisphere_image_urls.append(dct)\n",
    "\n",
    "\n",
    "    dictie['hemisphere_image_urls'] = hemisphere_image_urls\n",
    "    return dictie"
   ]
  },
  {
   "cell_type": "code",
   "execution_count": 30,
   "metadata": {},
   "outputs": [
    {
     "name": "stderr",
     "output_type": "stream",
     "text": [
      "\n",
      "\n",
      "====== WebDriver manager ======\n",
      "Current google-chrome version is 91.0.4472\n",
      "Get LATEST driver version for 91.0.4472\n",
      "Driver [C:\\Users\\JoshWeidenaar\\.wdm\\drivers\\chromedriver\\win32\\91.0.4472.101\\chromedriver.exe] found in cache\n",
      "C:\\Users\\JoshWeidenaar\\anaconda3\\lib\\site-packages\\splinter\\driver\\webdriver\\__init__.py:482: FutureWarning: browser.find_link_by_partial_href is deprecated. Use browser.links.find_by_partial_href instead.\n",
      "  warnings.warn(\n"
     ]
    },
    {
     "data": {
      "text/plain": [
       "{'news_title': \"NASA's Curiosity Keeps Rolling As Team Operates Rover From Home\",\n",
       " 'news_p': 'The team has learned to meet new challenges as they work remotely on the Mars mission.',\n",
       " 'featured_image_url': 'https://spaceimages-mars.com/image/featured/mars2.jpg',\n",
       " 'fact_table': '<table border=\"1\" class=\"dataframe\">\\n  <thead>\\n    <tr style=\"text-align: right;\">\\n      <th></th>\\n      <th>0</th>\\n      <th>1</th>\\n    </tr>\\n  </thead>\\n  <tbody>\\n    <tr>\\n      <th>0</th>\\n      <td>Equatorial Diameter:</td>\\n      <td>6,792 km</td>\\n    </tr>\\n    <tr>\\n      <th>1</th>\\n      <td>Polar Diameter:</td>\\n      <td>6,752 km</td>\\n    </tr>\\n    <tr>\\n      <th>2</th>\\n      <td>Mass:</td>\\n      <td>6.39 × 10^23 kg (0.11 Earths)</td>\\n    </tr>\\n    <tr>\\n      <th>3</th>\\n      <td>Moons:</td>\\n      <td>2 ( Phobos &amp; Deimos )</td>\\n    </tr>\\n    <tr>\\n      <th>4</th>\\n      <td>Orbit Distance:</td>\\n      <td>227,943,824 km (1.38 AU)</td>\\n    </tr>\\n    <tr>\\n      <th>5</th>\\n      <td>Orbit Period:</td>\\n      <td>687 days (1.9 years)</td>\\n    </tr>\\n    <tr>\\n      <th>6</th>\\n      <td>Surface Temperature:</td>\\n      <td>-87 to -5 °C</td>\\n    </tr>\\n    <tr>\\n      <th>7</th>\\n      <td>First Record:</td>\\n      <td>2nd millennium BC</td>\\n    </tr>\\n    <tr>\\n      <th>8</th>\\n      <td>Recorded By:</td>\\n      <td>Egyptian astronomers</td>\\n    </tr>\\n  </tbody>\\n</table>',\n",
       " 'hemisphere_image_urls': [{'title': 'Cerberus Hemisphere Enhanced',\n",
       "   'img_url': 'https://marshemispheres.com/images/full.jpg'},\n",
       "  {'title': 'Schiaparelli Hemisphere Enhanced',\n",
       "   'img_url': 'https://marshemispheres.com/images/schiaparelli_enhanced-full.jpg'},\n",
       "  {'title': 'Syrtis Major Hemisphere Enhanced',\n",
       "   'img_url': 'https://marshemispheres.com/images/syrtis_major_enhanced-full.jpg'},\n",
       "  {'title': 'Valles Marineris Hemisphere Enhanced',\n",
       "   'img_url': 'https://marshemispheres.com/images/valles_marineris_enhanced-full.jpg'}]}"
      ]
     },
     "execution_count": 30,
     "metadata": {},
     "output_type": "execute_result"
    }
   ],
   "source": [
    "scrape()"
   ]
  },
  {
   "cell_type": "raw",
   "metadata": {},
   "source": []
  },
  {
   "cell_type": "code",
   "execution_count": null,
   "metadata": {},
   "outputs": [],
   "source": []
  }
 ],
 "metadata": {
  "kernelspec": {
   "display_name": "Python 3",
   "language": "python",
   "name": "python3"
  },
  "language_info": {
   "codemirror_mode": {
    "name": "ipython",
    "version": 3
   },
   "file_extension": ".py",
   "mimetype": "text/x-python",
   "name": "python",
   "nbconvert_exporter": "python",
   "pygments_lexer": "ipython3",
   "version": "3.8.5"
  }
 },
 "nbformat": 4,
 "nbformat_minor": 4
}
